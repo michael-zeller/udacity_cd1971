{
 "cells": [
  {
   "cell_type": "code",
   "execution_count": 2,
   "metadata": {},
   "outputs": [],
   "source": [
    "# import libraries\n",
    "import json\n",
    "import pandas as pd\n",
    "import numpy as np"
   ]
  },
  {
   "cell_type": "code",
   "execution_count": 17,
   "metadata": {},
   "outputs": [],
   "source": [
    "# load data\n",
    "\n",
    "price_vol_usd_btc = pd.read_csv('data/bitcoinity_price_volume_USD_btc_5y.csv')    # Preis und Volumen in USD\n",
    "google_trends = pd.read_csv('data/googleTrends_5y.csv')\n",
    "\n",
    "# convert date to datetime\n",
    "google_trends['date'] = pd.to_datetime(google_trends['Woche'])\n",
    "price_vol_usd_btc['date'] = pd.to_datetime(price_vol_usd_btc['Time'])\n",
    "\n",
    "# add a new column with year and week\n",
    "google_trends['year_week'] = google_trends['date'].dt.strftime('%Y-%U')\n",
    "price_vol_usd_btc['year_week'] = price_vol_usd_btc['date'].dt.strftime('%Y-%U')\n",
    "\n",
    "# merge data by year and week\n",
    "weekly_data = pd.merge(google_trends, price_vol_usd_btc, on='year_week')\n",
    "\n",
    "weekly_data.drop(columns=['Woche', 'date_x', 'date_y', 'Time'], inplace=True)\n",
    "weekly_data.rename(columns={'volume': 'volume_usd'}, inplace=True)\n",
    "\n",
    "weekly_data.set_index('year_week', inplace=True)"
   ]
  },
  {
   "cell_type": "code",
   "execution_count": 18,
   "metadata": {},
   "outputs": [],
   "source": [
    "# build up the final data structure\n",
    "\n",
    "for col in weekly_data.columns:\n",
    "    if col != 'price':\n",
    "        weekly_data[f'{col}-1w'] = weekly_data[col].shift(1)\n",
    "        weekly_data[f'{col}-2w'] = weekly_data[col].shift(2)\n",
    "        weekly_data[f'{col}-5w'] = weekly_data[col].shift(5)\n",
    "\n",
    "weekly_data['price+1w'] = weekly_data['price'].shift(-1)\n",
    "\n"
   ]
  },
  {
   "cell_type": "code",
   "execution_count": 4,
   "metadata": {},
   "outputs": [],
   "source": [
    "\n",
    "\n",
    "with open('data/blockchain_tx-per-day_tx-vol.json', 'r') as f:\n",
    "    tx_vol = json.load(f)\n",
    "\n",
    "with open('data/blockchain_tx-per_day_tx-vol-usd.json', 'r') as f:\n",
    "    tx_usd = json.load(f)\n",
    "\n",
    "with open('data/blockchain_trade-volume_market-price.json', 'r') as f:\n",
    "    vol_price = json.load(f)\n",
    "\n",
    "   "
   ]
  },
  {
   "cell_type": "code",
   "execution_count": 9,
   "metadata": {},
   "outputs": [],
   "source": [
    "# estimated-transaction-volume per day in btc\n",
    "df_tx_vol = pd.DataFrame(tx_vol['estimated-transaction-volume'])\n",
    "df_tx_vol['time'] = pd.to_datetime(df_tx_vol['x'], unit='ms')\n",
    "df_tx_vol.set_index('time', inplace=True)\n",
    "df_tx_vol.drop(columns='x', inplace=True)\n",
    "df_tx_vol.rename(columns={'y': 'estimated_tx_vol_usd'}, inplace=True)\n",
    "\n",
    "\n",
    "# number of transactions per day\n",
    "df_n_tx = pd.DataFrame(tx_vol['n-transactions'])\n",
    "df_n_tx['time'] = pd.to_datetime(df_n_tx['x'], unit='ms')\n",
    "df_n_tx.set_index('time', inplace=True)\n",
    "df_n_tx.drop(columns='x', inplace=True)\n",
    "df_n_tx.rename(columns={'y': 'n-transactions'}, inplace=True)\n",
    "\n",
    "# estimated-transaction-volume per day in usd\n",
    "df_tx_vol_usd = pd.DataFrame(tx_usd['estimated-transaction-volume-usd'])\n",
    "df_tx_vol_usd['time'] = pd.to_datetime(df_tx_vol_usd['x'], unit='ms')\n",
    "df_tx_vol_usd.set_index('time', inplace=True)\n",
    "df_tx_vol_usd.drop(columns='x', inplace=True)\n",
    "df_tx_vol_usd.rename(columns={'y': 'estimated-transaction-volume-usd'}, inplace=True)\n",
    "\n",
    "\n",
    "\n",
    "\n",
    "# daily trade volume in btc\n",
    "df_trade_vol = pd.DataFrame(vol_price['trade-volume'])\n",
    "df_trade_vol['time'] = pd.to_datetime(df_trade_vol['x'], unit='ms')\n",
    "df_trade_vol.set_index('time', inplace=True)\n",
    "df_trade_vol.drop(columns='x', inplace=True)\n",
    "df_trade_vol.rename(columns={'y': 'trade-volume'}, inplace=True)\n",
    "\n",
    "# market price in usd\n",
    "df_market_price = pd.DataFrame(vol_price['market-price'])\n",
    "df_market_price['time'] = pd.to_datetime(df_market_price['x'], unit='ms')\n",
    "df_market_price.set_index('time', inplace=True)\n",
    "df_market_price.drop(columns='x', inplace=True)\n",
    "df_market_price.rename(columns={'y': 'market-price'}, inplace=True)\n",
    "\n",
    "\n",
    "# combine all dataframes\n",
    "df = pd.concat([df_tx_vol, df_tx_vol_usd, df_n_tx, df_trade_vol, df_market_price], axis=1)\n",
    "\n",
    "df = df[df.index > '2019-12-28']\n",
    "\n",
    "# create a new index colum from the time colum in the format yyyy-week\n",
    "df['week'] = df.index.strftime('%Y-%U')\n",
    "\n",
    "\n",
    "\n"
   ]
  }
 ],
 "metadata": {
  "kernelspec": {
   "display_name": "Python 3",
   "language": "python",
   "name": "python3"
  },
  "language_info": {
   "codemirror_mode": {
    "name": "ipython",
    "version": 3
   },
   "file_extension": ".py",
   "mimetype": "text/x-python",
   "name": "python",
   "nbconvert_exporter": "python",
   "pygments_lexer": "ipython3",
   "version": "3.12.1"
  }
 },
 "nbformat": 4,
 "nbformat_minor": 2
}
