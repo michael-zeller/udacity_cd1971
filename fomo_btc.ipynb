{
 "cells": [
  {
   "cell_type": "markdown",
   "metadata": {},
   "source": [
    "# Bibliotheken importieren\n",
    "Importiere die notwendigen Bibliotheken wie pandas und numpy."
   ]
  },
  {
   "cell_type": "code",
   "execution_count": 2,
   "metadata": {},
   "outputs": [],
   "source": [
    "# Bibliotheken importieren\n",
    "import json\n",
    "import pandas as pd\n",
    "import numpy as np"
   ]
  },
  {
   "cell_type": "markdown",
   "metadata": {},
   "source": [
    "# CSV-Dateien laden\n",
    "Lade die CSV-Dateien aus dem Verzeichnis /data mit pandas."
   ]
  },
  {
   "cell_type": "code",
   "execution_count": 3,
   "metadata": {},
   "outputs": [
    {
     "name": "stdout",
     "output_type": "stream",
     "text": [
      "                      Time        price        volume\n",
      "0  2019-12-30 00:00:00 UTC  7292.709828  1.127543e+09\n",
      "1  2020-01-06 00:00:00 UTC  7991.059379  2.185377e+09\n",
      "2  2020-01-13 00:00:00 UTC  8698.438710  2.532033e+09\n",
      "3  2020-01-20 00:00:00 UTC  8538.308612  1.355440e+09\n",
      "4  2020-01-27 00:00:00 UTC  9235.803210  2.067519e+09\n",
      "                                                                                                Kategorie: Alle Kategorien\n",
      "Woche      bitcoin: (Weltweit) investment: (Weltweit) inflation: (Weltweit) economy: (Weltweit)         crypto: (Weltweit)\n",
      "2019-12-29 11                  7                      2                     5                                            1\n",
      "2020-01-05 14                  9                      2                     7                                            2\n",
      "2020-01-12 14                  8                      2                     7                                            2\n",
      "2020-01-19 12                  9                      2                     7                                            2\n"
     ]
    }
   ],
   "source": [
    "# CSV-Dateien laden\n",
    "\n",
    "# Lade die CSV-Dateien aus dem Verzeichnis /data mit pandas\n",
    "price_vol_usd_btc = pd.read_csv('data/bitcoinity_price_volume_USD_btc_5y.csv')    # Preis und Volumen in USD\n",
    "google_trends = pd.read_csv('data/googleTrends_5y.csv')\n",
    "\n",
    "# Daten anzeigen\n",
    "\n",
    "# Zeige die ersten 5 Zeilen der Tabelle price_vol_usd_btc an\n",
    "print(price_vol_usd_btc.head())\n",
    "\n",
    "# Zeige die ersten 5 Zeilen der Tabelle google_trends an\n",
    "print(google_trends.head())\n",
    "\n",
    "\n",
    "\n"
   ]
  },
  {
   "cell_type": "code",
   "execution_count": 4,
   "metadata": {},
   "outputs": [],
   "source": [
    "\n",
    "\n",
    "with open('data/blockchain_tx-per-day_tx-vol.json', 'r') as f:\n",
    "    tx_vol = json.load(f)\n",
    "\n",
    "with open('data/blockchain_tx-per_day_tx-vol-usd.json', 'r') as f:\n",
    "    tx_usd = json.load(f)\n",
    "\n",
    "with open('data/blockchain_trade-volume_market-price.json', 'r') as f:\n",
    "    vol_price = json.load(f)\n",
    "\n",
    "   "
   ]
  },
  {
   "cell_type": "code",
   "execution_count": null,
   "metadata": {},
   "outputs": [],
   "source": [
    "# estimated-transaction-volume per day in btc\n",
    "df_tx_vol = pd.DataFrame(tx_vol['estimated-transaction-volume'])\n",
    "df_tx_vol['time'] = pd.to_datetime(df_tx_vol['x'], unit='ms')\n",
    "df_tx_vol.set_index('time', inplace=True)\n",
    "df_tx_vol.drop(columns='x', inplace=True)\n",
    "df_tx_vol.rename(columns={'y': 'estimated_tx_vol_usd'}, inplace=True)\n",
    "\n",
    "\n",
    "# number of transactions per day\n",
    "df_n_tx = pd.DataFrame(tx_vol['n-transactions'])\n",
    "df_n_tx['time'] = pd.to_datetime(df_n_tx['x'], unit='ms')\n",
    "df_n_tx.set_index('time', inplace=True)\n",
    "df_n_tx.drop(columns='x', inplace=True)\n",
    "df_n_tx.rename(columns={'y': 'n-transactions'}, inplace=True)\n",
    "\n",
    "# estimated-transaction-volume per day in usd\n",
    "df_tx_vol_usd = pd.DataFrame(tx_usd['estimated-transaction-volume-usd'])\n",
    "df_tx_vol_usd['time'] = pd.to_datetime(df_tx_vol_usd['x'], unit='ms')\n",
    "df_tx_vol_usd.set_index('time', inplace=True)\n",
    "df_tx_vol_usd.drop(columns='x', inplace=True)\n",
    "df_tx_vol_usd.rename(columns={'y': 'estimated-transaction-volume-usd'}, inplace=True)\n",
    "\n",
    "\n",
    "\n",
    "\n",
    "# daily trade volume in btc\n",
    "df_trade_vol = pd.DataFrame(vol_price['trade-volume'])\n",
    "df_trade_vol['time'] = pd.to_datetime(df_trade_vol['x'], unit='ms')\n",
    "df_trade_vol.set_index('time', inplace=True)\n",
    "df_trade_vol.drop(columns='x', inplace=True)\n",
    "df_trade_vol.rename(columns={'y': 'trade-volume'}, inplace=True)\n",
    "\n",
    "# market price in usd\n",
    "df_market_price = pd.DataFrame(vol_price['market-price'])\n",
    "df_market_price['time'] = pd.to_datetime(df_market_price['x'], unit='ms')\n",
    "df_market_price.set_index('time', inplace=True)\n",
    "df_market_price.drop(columns='x', inplace=True)\n",
    "df_market_price.rename(columns={'y': 'market-price'}, inplace=True)\n",
    "\n",
    "\n",
    "# combine all dataframes\n",
    "df = pd.concat([df_tx_vol, df_tx_vol_usd, df_n_tx, df_trade_vol, df_market_price], axis=1)\n",
    "\n",
    "df = df[df.index > '2019-12-28']\n",
    "\n",
    "# create a new index colum from the time colum in the format yyyy-week\n",
    "df['week'] = df.index.strftime('%Y-%U')\n",
    "\n",
    "\n",
    "\n"
   ]
  }
 ],
 "metadata": {
  "kernelspec": {
   "display_name": "Python 3",
   "language": "python",
   "name": "python3"
  },
  "language_info": {
   "codemirror_mode": {
    "name": "ipython",
    "version": 3
   },
   "file_extension": ".py",
   "mimetype": "text/x-python",
   "name": "python",
   "nbconvert_exporter": "python",
   "pygments_lexer": "ipython3",
   "version": "3.12.1"
  }
 },
 "nbformat": 4,
 "nbformat_minor": 2
}
